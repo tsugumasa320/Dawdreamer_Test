{
 "cells": [
  {
   "cell_type": "code",
   "execution_count": 16,
   "metadata": {},
   "outputs": [
    {
     "name": "stdout",
     "output_type": "stream",
     "text": [
      "[{'index': 0, 'name': '/MySine/freq', 'numSteps': 9223372036854775807, 'isDiscrete': False, 'label': 'freq', 'min': 0.0, 'max': 20000.0, 'step': 0.0, 'value': 880.0}, {'index': 1, 'name': '/MySine/vol', 'numSteps': 9223372036854775807, 'isDiscrete': False, 'label': 'vol', 'min': -120.0, 'max': 20.0, 'step': 0.0, 'value': -6.0}]\n"
     ]
    },
    {
     "data": {
      "text/plain": [
       "True"
      ]
     },
     "execution_count": 16,
     "metadata": {},
     "output_type": "execute_result"
    }
   ],
   "source": [
    "import dawdreamer as daw\n",
    "from scipy.io import wavfile\n",
    "SAMPLE_RATE = 44100\n",
    "engine = daw.RenderEngine(SAMPLE_RATE, 512)  # 512 block size #オーディオ処理のエンジンをインスタンス化\n",
    "faust_processor = engine.make_faust_processor(\"faust\") #FAUST Processorのインスタンス化\n",
    "faust_processor.set_dsp_string(\n",
    "    \"\"\"\n",
    "    declare name \"MySine\";\n",
    "    freq = hslider(\"freq\", 440, 0, 20000, 0);\n",
    "    gain = hslider(\"vol[unit:dB]\", 0, -120, 20, 0) : ba.db2linear;\n",
    "    process = freq : os.osc : _*gain <: si.bus(2);\n",
    "    \"\"\"\n",
    "    )\n",
    "faust_processor.get_parameters_description()\n",
    "engine.load_graph([\n",
    "                   (faust_processor, [])\n",
    "])\n",
    "faust_processor.set_parameter(\"/MySine/freq\", 880.)  # 440 Hz\n",
    "faust_processor.set_parameter(\"/MySine/vol\", -6.)  # -6 dB volume\n",
    "\n",
    "engine.set_bpm(120.)\n",
    "engine.render(1., beats=True)  # render 4 beats.(duration setting)\n",
    "\n",
    "audio = engine.get_audio()  # shaped (2, N samples) #stereo output\n",
    "wavfile.write('sine_demo.wav', SAMPLE_RATE, audio.transpose())\n",
    "print(faust_processor.get_parameters_description())\n",
    "\n",
    "\n",
    "# Change settings and re-render\n",
    "faust_processor.set_parameter(\"/MySine/freq\", 880.)  # 880 Hz\n",
    "engine.render(4., beats=True)\n",
    "# and so on..."
   ]
  },
  {
   "cell_type": "code",
   "execution_count": 3,
   "metadata": {},
   "outputs": [
    {
     "name": "stdout",
     "output_type": "stream",
     "text": [
      "Dawdreamer_Test.ipynb README.md             \u001b[34mVital.vst\u001b[m\u001b[m\n",
      "\u001b[34mLIRA-8.component\u001b[m\u001b[m      \u001b[34mSynth1.component\u001b[m\u001b[m      \u001b[34mVital.vst3\u001b[m\u001b[m\n",
      "\u001b[34mLIRA-8.vst\u001b[m\u001b[m            \u001b[34mVCV Rack 2 FX.vst\u001b[m\u001b[m     \u001b[34mneutone.vst3\u001b[m\u001b[m\n",
      "\u001b[34mLIRA-8.vst3\u001b[m\u001b[m           \u001b[34mVCV Rack 2.vst\u001b[m\u001b[m        sine_demo.wav\n"
     ]
    }
   ],
   "source": [
    "!ls"
   ]
  },
  {
   "cell_type": "code",
   "execution_count": 8,
   "metadata": {},
   "outputs": [
    {
     "name": "stderr",
     "output_type": "stream",
     "text": [
      "error: attempt to map invalid URI `/Library/Audio/Plug-Ins/VST3/Dexed.vst3'\n"
     ]
    },
    {
     "ename": "AttributeError",
     "evalue": "'dawdreamer.dawdreamer.PluginProcessor' object has no attribute 'add_note'",
     "output_type": "error",
     "traceback": [
      "\u001b[0;31m---------------------------------------------------------------------------\u001b[0m",
      "\u001b[0;31mAttributeError\u001b[0m                            Traceback (most recent call last)",
      "Cell \u001b[0;32mIn [8], line 27\u001b[0m\n\u001b[1;32m     25\u001b[0m synth\u001b[39m.\u001b[39mload_midi(my_midi_path)\n\u001b[1;32m     26\u001b[0m \u001b[39m# We can also add notes one at a time.\u001b[39;00m\n\u001b[0;32m---> 27\u001b[0m synth\u001b[39m.\u001b[39madd_note(\u001b[39m67\u001b[39m, \u001b[39m127\u001b[39m, \u001b[39m0.5\u001b[39m, \u001b[39m.25\u001b[39m)  \u001b[39m# (MIDI note, velocity, start sec, duration sec)\u001b[39;00m\n\u001b[1;32m     29\u001b[0m vocals_data \u001b[39m=\u001b[39m librosa\u001b[39m.\u001b[39mload(wav_data_path, duration\u001b[39m=\u001b[39m\u001b[39m10.\u001b[39m) \u001b[39m# use librosa for audio load\u001b[39;00m\n\u001b[1;32m     31\u001b[0m \u001b[39m# A graph is meaningfully ordered list of tuples.\u001b[39;00m\n\u001b[1;32m     32\u001b[0m \u001b[39m# In each tuple, the first item is an audio processor\u001b[39;00m\n\u001b[1;32m     33\u001b[0m \u001b[39m# The second item is this audio processor's list of unique names of input processors.\u001b[39;00m\n\u001b[1;32m     34\u001b[0m \u001b[39m# Audio from the last tuple's processor will be retrieved by engine.get_audio()\u001b[39;00m\n",
      "\u001b[0;31mAttributeError\u001b[0m: 'dawdreamer.dawdreamer.PluginProcessor' object has no attribute 'add_note'"
     ]
    }
   ],
   "source": [
    "# https://twitter.com/DoItRealTime/status/1294394705040609282\n",
    "\n",
    "import dawdreamer as daw #dawdreamerをインポート\n",
    "import numpy as np #numpyをインポート\n",
    "import librosa #librosaをインポート\n",
    "from scipy.io import wavfile\n",
    "\n",
    "\n",
    "SAMPLE_RATE, BLOCK_SIZE = 44100, 512\n",
    "engine = daw.RenderEngine(SAMPLE_RATE, BLOCK_SIZE)\n",
    "\n",
    "my_synth_pass = \"/Library/Audio/Plug-Ins/VST3/Dexed.vst3\"\n",
    "# OSXでサポートされてるのは以下のissueに記載あり.自分が持っている複数のプラグインは読み込めなかった.\n",
    "# https://github.com/DBraun/DawDreamer/issues/120\n",
    "# https://github.com/DBraun/DawDreamer/wiki/Plugin-Compatibility\n",
    "\n",
    "my_preset_path = \"\"\n",
    "my_midi_path = \"/Users/tsugumasayutani/Git/Dawdreamer_Test/01Prelude.mid\"\n",
    "reverb_pass = \"\"\n",
    "wav_data_path = \"/Users/tsugumasayutani/Git/Dawdreamer_Test/sine_demo.wav\"\n",
    "\n",
    "# Make a processor with a unique name \"my_synth\", which we must remember later.\n",
    "synth = engine.make_plugin_processor(\"my_synth\", my_synth_pass)\n",
    "#synth.load_preset(\"my_preset_path\")\n",
    "#print(synth.get_parameters_description())\n",
    "synth.load_midi(my_midi_path)\n",
    "# We can also add notes one at a time.\n",
    "#synth.add_note(67, 127, 0.5, .25)  # (MIDI note, velocity, start sec, duration sec)\n",
    "\n",
    "vocals_data = librosa.load(wav_data_path, duration=10.) # use librosa for audio load\n",
    "\n",
    "# A graph is meaningfully ordered list of tuples.\n",
    "# In each tuple, the first item is an audio processor\n",
    "# The second item is this audio processor's list of unique names of input processors.\n",
    "# Audio from the last tuple's processor will be retrieved by engine.get_audio()\n",
    "\n",
    "graph = [\n",
    "    (synth, []),\n",
    "    (engine.make_reverb_processor(\"basic_reverb\"), [\"my_synth\"]),\n",
    "#    (engine.make_plugin_processor(\"more_reverb\", \"reverb_pass\"), [\"basic_reverb\"]),\n",
    "#    (engine.make_playback_processor(\"my_vocals\", vocals_data), []),\n",
    "#    (engine.make_filter_processor(\"basic_filter\", \"high\", 1000.0, .7, 1.), [\"my_vocal\"]),\n",
    "#    (engine.make_add_processor(\"basic_add\"), [\"more_reverb\",\"basic_filter\"]),\n",
    "#    (engine.make_compressor_processor(\"basic_compressor\", 0, 1., 2., 50.), [\"basic_add\"]),\n",
    "]\n",
    "\n",
    "engine.load_graph(graph)\n",
    "engine.render(10.)  # render 10 seconds audio.\n",
    "audio = engine.get_audio()  # Returns python list of lists. The shape is (2, NUM_SAMPLES)\n",
    "wavfile.write('my_song.wav', SAMPLE_RATE, np.array(audio, np.float32).transpose())\n",
    "\n",
    "# You can modify processors without recreating the graph.\n",
    "#synth.load_preset(\"my_preset_path\")\n",
    "engine.render(10.) # Render audio again!"
   ]
  },
  {
   "cell_type": "code",
   "execution_count": null,
   "metadata": {},
   "outputs": [],
   "source": [
    "# https://github.com/DBraun/DawDreamer/issues/1\n",
    "\n",
    "import librosa\n",
    "import dawdreamer as daw\n",
    "import os\n",
    "SAMPLE_RATE = 44100\n",
    "song_path = \"/Users/tsugumasayutani/Git/Dawdreamer_Test/sine_demo.wav\"\n",
    "vst_effect_path = \"/Library/Audio/Plug-Ins/VST3/Dexed.vst3\"\n",
    "\n",
    "engine = daw.RenderEngine(SAMPLE_RATE, 512)\n",
    "def load_audio_file(file_path, duration=None):\n",
    "    sig, rate = librosa.load(file_path, duration=duration, mono=False, sr=SAMPLE_RATE)\n",
    "    assert(rate == SAMPLE_RATE)\n",
    "    return sig\n",
    "\n",
    "vocals = load_audio_file(song_path, duration=5.)\n",
    "\n",
    "import random\n",
    "\n",
    "while True:\n",
    "    graph = [\n",
    "        (engine.make_playback_processor(\"vocals\", vocals), []),\n",
    "        (engine.make_plugin_processor(\"reverb\", vst_effect_path ), [\"vocals\"])\n",
    "        ]\n",
    "    assert(engine.load_graph(graph))\n",
    "    # engine.clear()\n",
    "    os.system(\"clear\")\n",
    "    # del graph\n",
    "    print(random.random())"
   ]
  },
  {
   "cell_type": "code",
   "execution_count": 3,
   "metadata": {},
   "outputs": [
    {
     "ename": "AttributeError",
     "evalue": "'dawdreamer.dawdreamer.RenderEngine' object has no attribute 'make_synth_processor'",
     "output_type": "error",
     "traceback": [
      "\u001b[0;31m---------------------------------------------------------------------------\u001b[0m",
      "\u001b[0;31mAttributeError\u001b[0m                            Traceback (most recent call last)",
      "Cell \u001b[0;32mIn [3], line 6\u001b[0m\n\u001b[1;32m      4\u001b[0m SAMPLE_RATE \u001b[39m=\u001b[39m \u001b[39m44100\u001b[39m\n\u001b[1;32m      5\u001b[0m engine \u001b[39m=\u001b[39m daw\u001b[39m.\u001b[39mRenderEngine(SAMPLE_RATE, \u001b[39m512\u001b[39m)\n\u001b[0;32m----> 6\u001b[0m synth \u001b[39m=\u001b[39m engine\u001b[39m.\u001b[39mmake_synth_processor()\n\u001b[1;32m      8\u001b[0m adsr1 \u001b[39m=\u001b[39m synth\u001b[39m.\u001b[39mmake_adsr()  \u001b[39m# for controlling volume\u001b[39;00m\n\u001b[1;32m      9\u001b[0m adsr2 \u001b[39m=\u001b[39m synth\u001b[39m.\u001b[39mmake_adsr()  \u001b[39m# for controlling filter cutoff\u001b[39;00m\n",
      "\u001b[0;31mAttributeError\u001b[0m: 'dawdreamer.dawdreamer.RenderEngine' object has no attribute 'make_synth_processor'"
     ]
    }
   ],
   "source": [
    "# https://github.com/DBraun/DawDreamer/issues/16\n",
    "\n",
    "import dawdreamer as daw\n",
    "SAMPLE_RATE = 44100\n",
    "engine = daw.RenderEngine(SAMPLE_RATE, 512)\n",
    "synth = engine.make_synth_processor()\n",
    "# make_synth_processorはない？\n",
    "\n",
    "adsr1 = synth.make_adsr()  # for controlling volume\n",
    "adsr2 = synth.make_adsr()  # for controlling filter cutoff\n",
    "\n",
    "wavetable = synth.make_wavetable()  # default sine wave based on MIDI key.\n",
    "\n",
    "filter = synth.make_filter(mode='low')  # low-pass filter\n",
    "filter.freq = 7000.  # baseline cutoff in Hz.\n",
    "\n",
    "# connect wavetable to filter and then filter to synth output\n",
    "wavetable.output.connect(filter.input)  # ugly?\n",
    "filter.output.connect(synth.output)\n",
    "\n",
    "routing1 = adsr1.output.connect(wavetable.level, mode='unipolar', amount=1.)  # control volume\n",
    "routing2 = adsr2.output.connect(filter.freq, mode='unipolar', amount=2000.)  # control cutoff\n",
    "\n",
    "# finally, make graph\n",
    "graph = [\n",
    "    (synth, [])  # no inputs necessary to this synth\n",
    "]\n",
    "\n",
    "engine.load_graph(graph)\n",
    "engine.render(10.)\n",
    "\n",
    "# change parameters or routing and render again\n",
    "filter.mode = 'bandpass'  # switch to bandpass filter.\n",
    "routing2.amount = 3000.\n",
    "\n",
    "engine.render(10)\n",
    "\n",
    "synth.remove_routing(routing2)  # remove the filter routing\n",
    "\n",
    "engine.render(10)"
   ]
  },
  {
   "cell_type": "code",
   "execution_count": 5,
   "metadata": {},
   "outputs": [
    {
     "name": "stdout",
     "output_type": "stream",
     "text": [
      "45.0\n",
      "Cutoff\n"
     ]
    },
    {
     "name": "stderr",
     "output_type": "stream",
     "text": [
      "error: attempt to map invalid URI `/Library/Audio/Plug-Ins/VST3/Dexed.vst3'\n",
      "Warning: Signals will be skipped. Processor named plugin expects 0 input signals, but you are trying to connect 2 signals.\n",
      "Warning: Unable to connect playback channel 0 to plugin channel 0\n",
      "Warning: Unable to connect playback channel 1 to plugin channel 1\n"
     ]
    }
   ],
   "source": [
    "# https://github.com/DBraun/DawDreamer/issues/54\n",
    "\n",
    "import dawdreamer as daw\n",
    "import numpy as np\n",
    "from scipy.io import wavfile\n",
    "import librosa\n",
    "\n",
    "SAMPLE_RATE = 44100\n",
    "BUFFER_SIZE = 512\n",
    "DURATION = 15\n",
    "\n",
    "def load_audio_file(file_path, duration=None):\n",
    "  sig, rate = librosa.load(file_path, duration=duration, mono=False, sr=SAMPLE_RATE)\n",
    "  assert(rate == SAMPLE_RATE)\n",
    "  return sig\n",
    "\n",
    "engine = daw.RenderEngine(SAMPLE_RATE, BUFFER_SIZE)\n",
    "meu_plugin = engine.make_plugin_processor(\"plugin\", \"/Library/Audio/Plug-Ins/VST3/Dexed.vst3\")\n",
    "\n",
    "meu_plugin.set_parameter(0, 45) # override a specific parameter.\n",
    "print(meu_plugin.get_parameter(0))  # warning, is this actually 45? Probably not. VST parameters are normally between 0 and 1.\n",
    "print(meu_plugin.get_parameter_name(0))\n",
    "\n",
    "multi =  load_audio_file(\"/Users/tsugumasayutani/Git/Dawdreamer_Test/sine_demo.wav\")\n",
    "\n",
    "playback_processor = engine.make_playback_processor(\"playback\", multi)\n",
    "\n",
    "graph = [\n",
    "  (playback_processor , []),  # playback takes no inputs\n",
    "  (meu_plugin, [\"playback\"])\n",
    "]\n",
    "\n",
    "## this also works\n",
    "#graph = [\n",
    "#  (playback_processor , []),  # playback takes no inputs\n",
    "#  (meu_plugin, [playback_processor.get_name()])\n",
    "#]\n",
    "\n",
    "engine.load_graph(graph)\n",
    "engine.render(DURATION)\n",
    "audio = engine.get_audio()  \n",
    "\n",
    "wavfile.write('my_song2.wav', SAMPLE_RATE, audio.transpose()) # don't forget to transpose!"
   ]
  },
  {
   "cell_type": "code",
   "execution_count": null,
   "metadata": {},
   "outputs": [],
   "source": []
  }
 ],
 "metadata": {
  "kernelspec": {
   "display_name": "Python 3.9.13 ('jupyterlab')",
   "language": "python",
   "name": "python3"
  },
  "language_info": {
   "codemirror_mode": {
    "name": "ipython",
    "version": 3
   },
   "file_extension": ".py",
   "mimetype": "text/x-python",
   "name": "python",
   "nbconvert_exporter": "python",
   "pygments_lexer": "ipython3",
   "version": "3.9.13"
  },
  "orig_nbformat": 4,
  "vscode": {
   "interpreter": {
    "hash": "a9f0f0c5caf150f7071690afcc4cc7b8e908c8aff62b7b9434f5c9b44053989b"
   }
  }
 },
 "nbformat": 4,
 "nbformat_minor": 2
}
